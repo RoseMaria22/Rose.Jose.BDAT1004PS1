{
 "cells": [
  {
   "cell_type": "code",
   "execution_count": 13,
   "id": "ee4db2e0",
   "metadata": {},
   "outputs": [],
   "source": [
    "//Question 1\n",
    "//5              datatype=integer\n",
    "//5.0            datatype=double \n",
    "//5 > 1          datatype=boolean\n",
    "//'5'            datatype=char\n",
    "//5 * 2          datatype=integer\n",
    "//'5' * 2        datatype=integer\n",
    "//'5' + '2'      datatype=integer\n",
    "//5 / 2          datatype=integer\n",
    "// 5 % 2         datatype=integer               \n",
    "//{ 5, 2, 1 }    datatype=array of int           \n",
    "//5 == 3         datatype=boolean\n",
    "//Pi(the number) datatype=float\n",
    "               \n",
    "\n",
    "            "
   ]
  },
  {
   "cell_type": "code",
   "execution_count": 2,
   "id": "df829837",
   "metadata": {},
   "outputs": [
    {
     "name": "stdout",
     "output_type": "stream",
     "text": [
      "String Length: 34\n",
      "Substring exist: True\n",
      "The longest word is: Supercalifragilisticexpialidocious\n",
      "The composer that comes first in the dictionary: Bartok\n",
      "The composer that comes last in the dictionary: Buxtehude\n"
     ]
    }
   ],
   "source": [
    "//Question 2\n",
    "String str_value=\"Supercalifragilisticexpialidocious\";\n",
    "\n",
    "//a\n",
    "Console.WriteLine(\"String Length: \" + str_value.Length);\n",
    "\n",
    "//b\n",
    "Console.WriteLine(\"Substring exist: \" + str_value.Contains(\"ice\"));\n",
    "\n",
    "//c\n",
    "String str1_value=\"Supercalifragilisticexpialidocious\";\n",
    "String str2_value=\"Honorificabilitudinitatibus\";\n",
    "String str3_value=\"Bababadalgharaghtakamminarronnkonn\";\n",
    "\n",
    "int str1_len=str1_value.Length;\n",
    "int str2_len=str2_value.Length;\n",
    "int str3_len=str3_value.Length;\n",
    "if(str1_len >= str2_len && str1_len >= str3_len) {\n",
    "  Console.WriteLine(\"The longest word is: \" +str1_value);\n",
    "} \n",
    "else if(str2_len > str3_len) {\n",
    "  Console.WriteLine(\"The longest word is: \" +str2_value);\n",
    "}\n",
    "else{\n",
    "  Console.WriteLine(\"The longest word is: \" +str3_value );\n",
    "}\n",
    "\n",
    "//d\n",
    "string[] values= {\"Berlioz\",\"Borodin\",\"Brian\",\"Bartok\",\"Bellini\",\"Buxtehude\",\"Bernstein\"};\n",
    "Array.Sort(values);\n",
    "Console.WriteLine(\"The composer that comes first in the dictionary: \" +values[0]);\n",
    "Console.WriteLine(\"The composer that comes last in the dictionary: \" +values[values.Length-1]);\n"
   ]
  },
  {
   "cell_type": "code",
   "execution_count": 82,
   "id": "4e91719b",
   "metadata": {},
   "outputs": [
    {
     "name": "stdout",
     "output_type": "stream",
     "text": [
      "Area of triangle=1.7320508075688772\r\n"
     ]
    }
   ],
   "source": [
    "//Question 3\n",
    "public double triangleArea(double a,double b,double c)\n",
    "        {\n",
    "            double s=(a+b+c)/2;\n",
    "            double result=Math.Sqrt(s*(s - a)*(s - b)*(s - c));\n",
    "            return result;\n",
    "        }\n",
    "        Console.WriteLine(\"Area of triangle=\" +triangleArea(2,2,2));\n",
    "        \n",
    "\n",
    "        "
   ]
  },
  {
   "cell_type": "code",
   "execution_count": 80,
   "id": "f561d17b",
   "metadata": {},
   "outputs": [
    {
     "name": "stdout",
     "output_type": "stream",
     "text": [
      "The Even elements are:\n",
      "42 56 32 \n",
      "The odd elements are:\n",
      "25 47 "
     ]
    }
   ],
   "source": [
    "//Question 4\n",
    "int[] num = new int[]{25,47,42,56,32};\n",
    "int[] even=new int[5];\n",
    "int[] odd=new int[5];\n",
    "int even_index = 0,odd_index =0;\n",
    "for (int i=0;i<5;i++){\n",
    "if (num[i] % 2==0) {\n",
    "even[even_index] = num[i];\n",
    "even_index++;\n",
    "} \n",
    "else{\n",
    "odd[odd_index] = num[i];\n",
    "odd_index++;\n",
    "}\n",
    "}\n",
    "Console.WriteLine(\"The Even elements are:\");\n",
    "for (int i=0;i<even_index;i++){\n",
    "Console.Write(even[i] + \" \");\n",
    "}\n",
    "Console.WriteLine(\"\\nThe odd elements are:\");\n",
    "for (int i=0;i<odd_index;i++){\n",
    "Console.Write(odd[i]+ \" \");\n",
    "}\n",
    "      "
   ]
  },
  {
   "cell_type": "code",
   "execution_count": 87,
   "id": "e2e34895",
   "metadata": {},
   "outputs": [
    {
     "name": "stdout",
     "output_type": "stream",
     "text": [
      "True\n",
      "False\n",
      "False\n"
     ]
    }
   ],
   "source": [
    "//Question 5\n",
    "\n",
    "//a\n",
    "public bool inside(double x,double y,double x1,double y1,double x2,double y2)\n",
    "{\n",
    "if (x>=x1 && x<=x2 && y>=y1 && y<=y2)\n",
    "{return true;}\n",
    "else\n",
    "{return false;}\n",
    "}\n",
    "Console.WriteLine(inside(1,1,0,0,2,3));\n",
    "Console.WriteLine(inside(-1,-1,0,0,2,3));\n",
    "\n",
    "//b\n",
    "Console.WriteLine(inside(1,1,0.3,0.5,1.1,0.7) && inside(1,1,0.5,0.2,1.1,2));"
   ]
  }
 ],
 "metadata": {
  "kernelspec": {
   "display_name": ".NET (C#)",
   "language": "C#",
   "name": ".net-csharp"
  },
  "language_info": {
   "file_extension": ".cs",
   "mimetype": "text/x-csharp",
   "name": "C#",
   "pygments_lexer": "csharp",
   "version": "11.0"
  }
 },
 "nbformat": 4,
 "nbformat_minor": 5
}
