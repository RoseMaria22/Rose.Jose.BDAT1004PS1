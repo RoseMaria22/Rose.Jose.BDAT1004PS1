{
 "cells": [
  {
   "cell_type": "code",
   "execution_count": 2,
   "id": "8e00c9af",
   "metadata": {},
   "outputs": [
    {
     "name": "stdout",
     "output_type": "stream",
     "text": [
      "Enter the text: enter\n",
      "enterway\n"
     ]
    }
   ],
   "source": [
    "#Question 6\n",
    "def pig(value):\n",
    "    value = value.lower()\n",
    "    vowels = \"aeiou\"\n",
    "    if value[0] in vowels:\n",
    "        return value + \"way\"\n",
    "    else:\n",
    "        return value[1:] + value[0] + \"ay\"\n",
    "input_text = input(\"Enter the text: \")\n",
    "output_text = pig(input_text)\n",
    "print(output_text)"
   ]
  },
  {
   "cell_type": "code",
   "execution_count": 28,
   "id": "65917a52",
   "metadata": {},
   "outputs": [
    {
     "name": "stdout",
     "output_type": "stream",
     "text": [
      "There are 13 patients of blood type AB\n",
      "There are 15 patients of blood type A\n",
      "There is one patient of blood type B\n",
      "There are 15 patients of blood type O\n",
      "There are no patients of blood type OO\n"
     ]
    }
   ],
   "source": [
    "#Question 7\n",
    "def bldcount(file_name):\n",
    "    with open(file_name, 'r') as f:\n",
    "        num_line = ''.join(f.readlines()).split()\n",
    "        f.close()\n",
    "        blood_groups = ['AB','A','B','O','OO']\n",
    "\n",
    "    for x in blood_groups:\n",
    "        count = num_line.count(x)\n",
    "        if count == 0:\n",
    "            print(f\"There are no patients of blood type {x}\")\n",
    "        elif count == 1:\n",
    "            print(f\"There is one patient of blood type {x}\")\n",
    "        else:\n",
    "            print(f\"There are {count} patients of blood type {x}\")\n",
    "\n",
    "\n",
    "bldcount('C:/Users/rosem/Downloads/Data programming/Week 02 Notebook/bloodtype.txt')"
   ]
  },
  {
   "cell_type": "code",
   "execution_count": 4,
   "id": "70a246ff",
   "metadata": {},
   "outputs": [
    {
     "name": "stdout",
     "output_type": "stream",
     "text": [
      "Currency:JPY\n",
      "Amount:100\n",
      "1.241401\n"
     ]
    }
   ],
   "source": [
    "#Question 8\n",
    "def curconv(currency_name,currency_amount):\n",
    "    with open('C:/Users/rosem/Downloads/Data programming/Week 02 Notebook/currencies.txt','r') as f:\n",
    "        for num_line in f:\n",
    "            if currency_name in num_line:\n",
    "                convertion_amount = float(num_line.split()[1]) \n",
    "                return convertion_amount * currency_amount\n",
    "currency_name = input(\"Currency:\")\n",
    "currency_amount = int(input(\"Amount:\"))\n",
    "print(curconv(currency_name,currency_amount))\n",
    "\n"
   ]
  },
  {
   "cell_type": "code",
   "execution_count": null,
   "id": "540c01ee",
   "metadata": {},
   "outputs": [],
   "source": [
    "#Question 9\n",
    "\n",
    "# Trying to add incompatible variables, as in adding 6 + ‘a’\n",
    "#Output:\n",
    "#TypeError: unsupported operand type(s) for +: 'int' and 'str'\n",
    "\n",
    "#Referring to the 12th item of a list that has only 10 items\n",
    "#Output\n",
    "#IndexError: list index out of range\n",
    "\n",
    "#Using a value that is out ofrange for a function’s input, such as calling math.sqrt(-1.0)\n",
    "#Output\n",
    "#ValueError: math domain error\n",
    "\n",
    "#Using an undeclared variable, such as print(x) when x has not been defined\n",
    "#Output:\n",
    "#NameError: name 'x' is not defined\n",
    "\n",
    "#Trying to open a file that does not exist, such as mistyping the file name or looking in the wrong directory.\n",
    "#Output\n",
    "#FileNotFoundError: [Errno 2] No such file or directory: 'file.txt'\n"
   ]
  },
  {
   "cell_type": "code",
   "execution_count": 3,
   "id": "776d32e5",
   "metadata": {},
   "outputs": [
    {
     "name": "stdout",
     "output_type": "stream",
     "text": [
      "Enter the text:The quick red fox got bored and went home.\n",
      "[1, 1, 1, 3, 5, 1, 1, 2, 1, 0, 1, 0, 1, 2, 4, 0, 1, 2, 0, 2, 1, 0, 1, 1, 0, 0]\n"
     ]
    }
   ],
   "source": [
    "#Question 10\n",
    "def frequency(value):\n",
    "    result = [0] * 26\n",
    "    for ch in value:\n",
    "        if ch in 'abcdefghijklmnopqrstuvwxyz':\n",
    "            result[ord(ch)-ord('a')] += 1\n",
    "\n",
    "    return result\n",
    "text=input(\"Enter the text:\")\n",
    "encrypted_data = frequency(text)\n",
    "print(encrypted_data)"
   ]
  }
 ],
 "metadata": {
  "kernelspec": {
   "display_name": "Python 3 (ipykernel)",
   "language": "python",
   "name": "python3"
  },
  "language_info": {
   "codemirror_mode": {
    "name": "ipython",
    "version": 3
   },
   "file_extension": ".py",
   "mimetype": "text/x-python",
   "name": "python",
   "nbconvert_exporter": "python",
   "pygments_lexer": "ipython3",
   "version": "3.9.13"
  }
 },
 "nbformat": 4,
 "nbformat_minor": 5
}
